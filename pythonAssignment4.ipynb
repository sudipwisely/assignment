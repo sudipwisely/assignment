{
 "cells": [
  {
   "cell_type": "markdown",
   "metadata": {},
   "source": [
    "# 1 Write a Python Program(with class concepts) to find the area of the triangle using the below formula, Function to take the length of the sides of triangle from user should be defined in the parent class and function to calculate the area should be defined in subclass. area = (s*(s-a)*(s-b)*(s-c)) ** 0.5"
   ]
  },
  {
   "cell_type": "code",
   "execution_count": 3,
   "metadata": {},
   "outputs": [
    {
     "name": "stdout",
     "output_type": "stream",
     "text": [
      "Please enter the value of S: 100\n",
      "Please enter the value of A: 10\n",
      "Please enter the value of B: 15\n",
      "Please enter the value of C: 17\n",
      "calculated Area is: 7968.37\n"
     ]
    }
   ],
   "source": [
    "class parent_area_cal:\n",
    "  def __init__(self):\n",
    "    S = input(\"Please enter the value of S: \")\n",
    "    try:\n",
    "      self.s = int(S)\n",
    "    except:\n",
    "      try:\n",
    "        self.s = float(S)\n",
    "      except:\n",
    "        print(\"S value is not a number. It's a string\")\n",
    "    A = input(\"Please enter the value of A: \")\n",
    "    try:\n",
    "      self.a = int(A)\n",
    "    except:\n",
    "      try:\n",
    "        self.a = float(A)\n",
    "      except:\n",
    "        print(\"A value is not a number. It's a string\")\n",
    "    B = input(\"Please enter the value of B: \")\n",
    "    try:\n",
    "      self.b = int(B)\n",
    "    except:\n",
    "      try:\n",
    "        self.b = float(A)\n",
    "      except:\n",
    "        print(\"B value is not a number. It's a string\")\n",
    "    C = input(\"Please enter the value of C: \")\n",
    "    try:\n",
    "      self.c = int(C)\n",
    "    except:\n",
    "      try:\n",
    "        self.c = float(C)\n",
    "      except:\n",
    "        print(\"C value is not a number. It's a string\")\n",
    "\n",
    "class child_area_cal(parent_area_cal):\n",
    "  def __init__(self):\n",
    "    super(child_area_cal, self).__init__()\n",
    "  def cal_area(self):\n",
    "    try:\n",
    "      return (self.s*(self.s-self.a)*(self.s-self.b)*(self.s-self.c)) ** 0.5\n",
    "    except:\n",
    "      return 'error'\n",
    "  \n",
    "\n",
    "radious = child_area_cal()\n",
    "if(radious.cal_area() != 'error'):\n",
    "  print(f\"calculated Area is: {str(round(radious.cal_area(),2))}\")\n",
    "else:\n",
    "  print(\"can't calculate because of wrong data inputted\")"
   ]
  },
  {
   "cell_type": "markdown",
   "metadata": {},
   "source": [
    "# 2.Write a function filter_long_words() that takes a list of words and an integer n and returns the list of words that are longer than n."
   ]
  },
  {
   "cell_type": "code",
   "execution_count": 11,
   "metadata": {},
   "outputs": [
    {
     "name": "stdout",
     "output_type": "stream",
     "text": [
      "Please enter your comma-separated string: Kolkata,bangalore,mangalore,delhi,chikmanglur,mumbai\n",
      "Please enter your maximum character count: 6\n",
      "My list is: ['Kolkata', 'bangalore', 'mangalore', 'chikmanglur']\n"
     ]
    }
   ],
   "source": [
    "def filter_long_words():\n",
    "    mystring = input(\"Please enter your comma-separated string: \")\n",
    "    maximum_char_count = int(input(\"Please enter your maximum character count: \"))\n",
    "\n",
    "    mystrlist = mystring.split(\",\")\n",
    "    myresult = list(filter(lambda x:len(x)>maximum_char_count,mystrlist))\n",
    "    return myresult\n",
    "\n",
    "print(f\"My list is: {filter_long_words()}\")"
   ]
  },
  {
   "cell_type": "markdown",
   "metadata": {},
   "source": [
    "# 3.Write a Python program using function concept that maps list of words into a list of integers representing the lengths of the corresponding words. Hint: If a list [ ab,cde,erty] is passed on to the python function output should come as [2,3,4]. Here 2,3 and 4 are the lengths of the words in the list."
   ]
  },
  {
   "cell_type": "code",
   "execution_count": 15,
   "metadata": {},
   "outputs": [
    {
     "name": "stdout",
     "output_type": "stream",
     "text": [
      "Please enter your comma separated string : ab,cde,erty\n",
      "My list length is: [2, 3, 4]\n"
     ]
    }
   ],
   "source": [
    "def check_string_list():\n",
    "    mystring = input(\"Please enter your comma separated string : \")\n",
    "    mylist = mystring.split(\",\")\n",
    "    striglist = list(map(lambda x:len(x),mylist))\n",
    "    return striglist\n",
    "print(f\"My list length is: {check_string_list()}\")"
   ]
  },
  {
   "cell_type": "markdown",
   "metadata": {},
   "source": [
    "# 4.Write a Python function which takes a character (i.e. a string of length 1) and returns True if it is a vowel, False otherwise."
   ]
  },
  {
   "cell_type": "code",
   "execution_count": 18,
   "metadata": {},
   "outputs": [
    {
     "name": "stdout",
     "output_type": "stream",
     "text": [
      "Please enter one character: y\n",
      "False\n"
     ]
    }
   ],
   "source": [
    "import re,sys\n",
    "input_str = input(\"Please enter one character: \")\n",
    "\n",
    "def check_character(input_str):\n",
    "  vowel_list = ['a','e','i','o','u']\n",
    "  if any(input_str.lower() in s for s in vowel_list):\n",
    "    return True\n",
    "  else:\n",
    "    return False\n",
    "\n",
    "if not re.match(\"^[a-zA-Z]*$\", input_str):\n",
    "    print(\"Error! Only letters a-z allowed!\")\n",
    "    sys.exit()\n",
    "elif len(input_str) > 1:\n",
    "    print(\"Error! Only 1 character allowed!\")\n",
    "    sys.exit()\n",
    "else:\n",
    "  print(check_character(input_str))"
   ]
  },
  {
   "cell_type": "code",
   "execution_count": null,
   "metadata": {},
   "outputs": [],
   "source": []
  }
 ],
 "metadata": {
  "kernelspec": {
   "display_name": "Python 3",
   "language": "python",
   "name": "python3"
  },
  "language_info": {
   "codemirror_mode": {
    "name": "ipython",
    "version": 3
   },
   "file_extension": ".py",
   "mimetype": "text/x-python",
   "name": "python",
   "nbconvert_exporter": "python",
   "pygments_lexer": "ipython3",
   "version": "3.7.6"
  }
 },
 "nbformat": 4,
 "nbformat_minor": 4
}
